{
 "cells": [
  {
   "cell_type": "code",
   "execution_count": 84,
   "metadata": {},
   "outputs": [],
   "source": [
    "class BaseMatrix:\n",
    "    pass\n",
    "\n",
    "class Matrix(BaseMatrix):\n",
    "\n",
    "    def __init__(\n",
    "        self,\n",
    "        matrix1 : list = None,\n",
    "        matrix2 : list = None\n",
    "    ): \n",
    "        if matrix1 is not None: \n",
    "            self.matrix1 = matrix1 \n",
    "        else:\n",
    "            self.matrix1 = self.input_matrix('введи значение для 1 матрицы') \n",
    "\n",
    "        if matrix2 is not None:\n",
    "            self.matrix2 = matrix2\n",
    "        else:\n",
    "            self.matrix2 = self.input_matrix('введи значение для 2 матрицы')\n",
    "\n",
    "    def \n",
    "    # транспарированная\n",
    "    def T(self,other):\n",
    "        pass\n",
    "    \n",
    "    def __len__(self):\n",
    "        return len(self.matrix)\n",
    "\n",
    "    # сложение\n",
    "    def __add__(self,other):\n",
    "        pass\n",
    "\n",
    "    # minus\n",
    "    def __sub__(self,other):\n",
    "        pass\n",
    "\n",
    "    # *\n",
    "    def __mul__(self,other):\n",
    "        pass\n",
    "\n",
    "    # / \n",
    "    def __truediv__(self,other):\n",
    "        pass\n",
    "\n",
    "    # @\n",
    "    def __matmul__(self,other):\n",
    "        pass\n",
    "\n",
    "    # ravenstvo \n",
    "    def __eq__(self,other):\n",
    "        pass\n",
    "\n",
    "    def __repr__(self):\n",
    "        return str(self.matrix1)\n"
   ]
  },
  {
   "cell_type": "code",
   "execution_count": 85,
   "metadata": {},
   "outputs": [
    {
     "ename": "AttributeError",
     "evalue": "'Matrix' object has no attribute 'input_matrix'",
     "output_type": "error",
     "traceback": [
      "\u001b[1;31m---------------------------------------------------------------------------\u001b[0m",
      "\u001b[1;31mAttributeError\u001b[0m                            Traceback (most recent call last)",
      "\u001b[1;32mc:\\Users\\spant\\Desktop\\panteleev3rdcourse\\dzforvtornik.ipynb Cell 2\u001b[0m line \u001b[0;36m1\n\u001b[1;32m----> <a href='vscode-notebook-cell:/c%3A/Users/spant/Desktop/panteleev3rdcourse/dzforvtornik.ipynb#W2sZmlsZQ%3D%3D?line=0'>1</a>\u001b[0m a \u001b[39m=\u001b[39m Matrix()\n\u001b[0;32m      <a href='vscode-notebook-cell:/c%3A/Users/spant/Desktop/panteleev3rdcourse/dzforvtornik.ipynb#W2sZmlsZQ%3D%3D?line=1'>2</a>\u001b[0m a\u001b[39m.\u001b[39m\u001b[39m__repr__\u001b[39m\n",
      "\u001b[1;32mc:\\Users\\spant\\Desktop\\panteleev3rdcourse\\dzforvtornik.ipynb Cell 2\u001b[0m line \u001b[0;36m1\n\u001b[0;32m     <a href='vscode-notebook-cell:/c%3A/Users/spant/Desktop/panteleev3rdcourse/dzforvtornik.ipynb#W2sZmlsZQ%3D%3D?line=11'>12</a>\u001b[0m     \u001b[39mself\u001b[39m\u001b[39m.\u001b[39mmatrix1 \u001b[39m=\u001b[39m matrix1 \n\u001b[0;32m     <a href='vscode-notebook-cell:/c%3A/Users/spant/Desktop/panteleev3rdcourse/dzforvtornik.ipynb#W2sZmlsZQ%3D%3D?line=12'>13</a>\u001b[0m \u001b[39melse\u001b[39;00m:\n\u001b[1;32m---> <a href='vscode-notebook-cell:/c%3A/Users/spant/Desktop/panteleev3rdcourse/dzforvtornik.ipynb#W2sZmlsZQ%3D%3D?line=13'>14</a>\u001b[0m     \u001b[39mself\u001b[39m\u001b[39m.\u001b[39mmatrix1 \u001b[39m=\u001b[39m \u001b[39mself\u001b[39;49m\u001b[39m.\u001b[39;49minput_matrix(\u001b[39m'\u001b[39m\u001b[39mвведи значение для 1 матрицы\u001b[39m\u001b[39m'\u001b[39m) \n\u001b[0;32m     <a href='vscode-notebook-cell:/c%3A/Users/spant/Desktop/panteleev3rdcourse/dzforvtornik.ipynb#W2sZmlsZQ%3D%3D?line=15'>16</a>\u001b[0m \u001b[39mif\u001b[39;00m matrix2 \u001b[39mis\u001b[39;00m \u001b[39mnot\u001b[39;00m \u001b[39mNone\u001b[39;00m:\n\u001b[0;32m     <a href='vscode-notebook-cell:/c%3A/Users/spant/Desktop/panteleev3rdcourse/dzforvtornik.ipynb#W2sZmlsZQ%3D%3D?line=16'>17</a>\u001b[0m     \u001b[39mself\u001b[39m\u001b[39m.\u001b[39mmatrix2 \u001b[39m=\u001b[39m matrix2\n",
      "\u001b[1;31mAttributeError\u001b[0m: 'Matrix' object has no attribute 'input_matrix'"
     ]
    }
   ],
   "source": [
    "a = Matrix()\n",
    "a.__repr__"
   ]
  }
 ],
 "metadata": {
  "kernelspec": {
   "display_name": "Python 3",
   "language": "python",
   "name": "python3"
  },
  "language_info": {
   "codemirror_mode": {
    "name": "ipython",
    "version": 3
   },
   "file_extension": ".py",
   "mimetype": "text/x-python",
   "name": "python",
   "nbconvert_exporter": "python",
   "pygments_lexer": "ipython3",
   "version": "3.10.0"
  },
  "orig_nbformat": 4
 },
 "nbformat": 4,
 "nbformat_minor": 2
}
