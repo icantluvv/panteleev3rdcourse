{
 "cells": [
  {
   "cell_type": "code",
   "execution_count": 231,
   "metadata": {},
   "outputs": [],
   "source": [
    "class BaseMatrix:\n",
    "    pass\n",
    "\n",
    "\n",
    "class Matrix(BaseMatrix):\n",
    "\n",
    "\n",
    "    def __init__(\n",
    "        self,\n",
    "        matrix\n",
    "    ): \n",
    "        self.matrix = matrix    \n",
    "    \n",
    "    def __len__(self):\n",
    "        return len(self.matrix)\n",
    "\n",
    "    def get_dimensions(self):\n",
    "        rows = len(self.matrix)\n",
    "        columns = len(self.matrix[0]) if rows > 0 else 0\n",
    "\n",
    "        return rows, columns\n",
    "\n",
    "    def is_same_dimensions(self, other_matrix):\n",
    "        rows, columns = self.get_dimensions()\n",
    "        other_rows, other_columns = other_matrix.get_dimensions()\n",
    "        \n",
    "        return rows == other_rows, columns == other_columns\n",
    "\n",
    "    # транспарированная\n",
    "    def T(self ):\n",
    "        rows = len(self)\n",
    "        columns = len(self.matrix[0]) if rows > 0 else 0\n",
    "\n",
    "        transposed = []\n",
    "        for j in range(columns):\n",
    "            row = []\n",
    "            for i in range(rows):\n",
    "                row.append(self.matrix[i][j])\n",
    "            transposed.append(row)\n",
    "            \n",
    "        return Matrix(transposed)\n",
    "\n",
    "    # сложение\n",
    "    def __add__(self, other_matrix):\n",
    "        if not self.is_same_dimensions(other_matrix):\n",
    "            raise ValueError('Матрицы не являются одноразмерными')\n",
    "        \n",
    "        result = []\n",
    "        for i in range(len(self.matrix)):\n",
    "            row = []\n",
    "            for j in range(len(self.matrix[i])):\n",
    "                row.append(self.matrix[i][j] + other_matrix.matrix[i][j])\n",
    "            result.append(row)\n",
    "\n",
    "        return Matrix(result)\n",
    "\n",
    "    # minus\n",
    "    def __sub__(self, other_matrix):\n",
    "        if not self.is_same_dimensions(other_matrix):\n",
    "            raise ValueError(\"проблема с размерностью\")\n",
    "\n",
    "        result = []\n",
    "        for i in range(len(self.matrix)):\n",
    "            row = []\n",
    "            for j in range(len(self.matrix[i])):\n",
    "                row.append(self.matrix[i][j] - other_matrix.matrix[i][j])\n",
    "            result.append(row)\n",
    "\n",
    "        return Matrix(result)\n",
    "\n",
    "    # *\n",
    "    def __mul__(self, other_matrix):\n",
    "\n",
    "        rows, columns = self.get_dimensions()\n",
    "        other_rows, other_columns = other_matrix.get_dimensions()\n",
    "\n",
    "        if columns != other_rows:\n",
    "            raise ValueError(\"проблема с размерностью\")\n",
    "\n",
    "        result = []\n",
    "        for i in range(rows):\n",
    "            row = []\n",
    "            for j in range(other_columns):\n",
    "                element = 0\n",
    "                for k in range(columns):\n",
    "                    element += self.matrix[i][k] * other_matrix.matrix[k][j]\n",
    "                row.append(element)\n",
    "            result.append(row)\n",
    "\n",
    "        return Matrix(result)\n",
    "\n",
    "    # / \n",
    "    def __truediv__(self, other_matrix):\n",
    "        if not self.is_same_dimensions(other_matrix):\n",
    "            raise ValueError(\"проблема с размерностью\")\n",
    "\n",
    "        result = []\n",
    "        for i in range(len(self.matrix)):\n",
    "            row = []\n",
    "            for j in range(len(self.matrix[i])):\n",
    "                row.append(self.matrix[i][j] / other_matrix.matrix[i][j])\n",
    "        result.append(row)\n",
    "\n",
    "        return Matrix(result)\n",
    "\n",
    "\n",
    "    # @\n",
    "    def __matmul__(self, other_matrix):\n",
    "        rows, columns = self.get_dimensions()\n",
    "        other_rows, other_columns = other_matrix.get_dimensions()\n",
    "\n",
    "        if columns != other_rows:\n",
    "            raise ValueError(\"проблема с размерностью\")\n",
    "\n",
    "        result = []\n",
    "        for i in range(rows):\n",
    "            row = []\n",
    "            for j in range(other_columns):\n",
    "                element = 0\n",
    "                for k in range(columns):\n",
    "                    element += self.matrix[i][k] * other_matrix.matrix[k][j]\n",
    "                row.append(element)\n",
    "            result.append(row)\n",
    "\n",
    "        return Matrix(result)\n",
    "\n",
    "    # ravenstvo \n",
    "    def __eq__(self, other_matrix):\n",
    "        if not self.is_same_dimensions(other_matrix):\n",
    "            return False\n",
    "\n",
    "        for i in range(len(self)):\n",
    "            for j in range(len(self.matrix[i])):\n",
    "                if self.matrix[i][j] != other_matrix.matrix[i][j]:\n",
    "                    return False\n",
    "\n",
    "        return True\n",
    "\n",
    "    def __repr__(self):\n",
    "        return str(self.matrix)\n"
   ]
  },
  {
   "cell_type": "code",
   "execution_count": 232,
   "metadata": {},
   "outputs": [],
   "source": [
    "matrix1 = Matrix([[1, 2], [3, 4]])\n",
    "matrix2 = Matrix([[5, 6], [7, 8]])\n",
    "\n",
    "np_matrix1 = np.array(matrix1)\n",
    "np_matrix2 = np.array(matrix2)\n",
    "\n"
   ]
  },
  {
   "cell_type": "code",
   "execution_count": 233,
   "metadata": {},
   "outputs": [
    {
     "name": "stdout",
     "output_type": "stream",
     "text": [
      "[[6, 8], [10, 12]]\n",
      "[[6, 8], [10, 12]]\n"
     ]
    }
   ],
   "source": [
    "\n",
    "print(matrix1 + matrix2)\n",
    "print(np_matrix1 + np_matrix2)"
   ]
  },
  {
   "cell_type": "code",
   "execution_count": 234,
   "metadata": {},
   "outputs": [
    {
     "name": "stdout",
     "output_type": "stream",
     "text": [
      "[[-4, -4], [-4, -4]]\n",
      "[[-4, -4], [-4, -4]]\n"
     ]
    }
   ],
   "source": [
    "\n",
    "minus = matrix1 - matrix2\n",
    "minus\n",
    "print(matrix1 - matrix2)\n",
    "print(np_matrix1 - np_matrix2)\n"
   ]
  },
  {
   "cell_type": "code",
   "execution_count": 235,
   "metadata": {},
   "outputs": [
    {
     "name": "stdout",
     "output_type": "stream",
     "text": [
      "[[19, 22], [43, 50]]\n",
      "[[19, 22], [43, 50]]\n"
     ]
    }
   ],
   "source": [
    "proizved = matrix1 * matrix2\n",
    "proizved\n",
    "\n",
    "print(matrix1 * matrix2)\n",
    "print(np_matrix1 * np_matrix2)"
   ]
  },
  {
   "cell_type": "code",
   "execution_count": 236,
   "metadata": {},
   "outputs": [
    {
     "name": "stdout",
     "output_type": "stream",
     "text": [
      "[[0.42857142857142855, 0.5]]\n",
      "[[0.42857142857142855, 0.5]]\n"
     ]
    }
   ],
   "source": [
    "delen = matrix1 / matrix2\n",
    "delen\n",
    "print(matrix1 / matrix2)\n",
    "print(np_matrix1 / np_matrix2)"
   ]
  },
  {
   "cell_type": "code",
   "execution_count": 237,
   "metadata": {},
   "outputs": [
    {
     "name": "stdout",
     "output_type": "stream",
     "text": [
      "[[1, 3], [2, 4]]\n"
     ]
    }
   ],
   "source": [
    "Tran = matrix1.T()\n",
    "print(Tran)"
   ]
  },
  {
   "cell_type": "code",
   "execution_count": 238,
   "metadata": {},
   "outputs": [
    {
     "name": "stdout",
     "output_type": "stream",
     "text": [
      "Матрицы не равны\n"
     ]
    }
   ],
   "source": [
    "if matrix1 == matrix2:\n",
    "    print(\"Матрицы равны\")\n",
    "else:\n",
    "    print(\"Матрицы не равны\")"
   ]
  },
  {
   "cell_type": "code",
   "execution_count": 239,
   "metadata": {},
   "outputs": [
    {
     "name": "stdout",
     "output_type": "stream",
     "text": [
      "[[19 22]\n",
      " [43 50]]\n",
      "Результат умножения:\n",
      "[[19, 22], [43, 50]]\n"
     ]
    }
   ],
   "source": [
    "result = matrix1 @ matrix2\n",
    "np_matrix1 = np.array(matrix1.matrix)\n",
    "np_matrix2 = np.array(matrix2.matrix)\n",
    "print(np_matrix1 @ np_matrix2)\n",
    "print(result)"
   ]
  }
 ],
 "metadata": {
  "kernelspec": {
   "display_name": "Python 3",
   "language": "python",
   "name": "python3"
  },
  "language_info": {
   "codemirror_mode": {
    "name": "ipython",
    "version": 3
   },
   "file_extension": ".py",
   "mimetype": "text/x-python",
   "name": "python",
   "nbconvert_exporter": "python",
   "pygments_lexer": "ipython3",
   "version": "3.10.0"
  },
  "orig_nbformat": 4
 },
 "nbformat": 4,
 "nbformat_minor": 2
}
