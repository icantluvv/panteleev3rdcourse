{
 "cells": [
  {
   "cell_type": "code",
   "execution_count": 51,
   "id": "1d8469aa-d26a-4b55-8506-095ee6e98e16",
   "metadata": {},
   "outputs": [],
   "source": [
    "from random import randint"
   ]
  },
  {
   "cell_type": "code",
   "execution_count": 52,
   "id": "2859417e-c389-47a1-9325-f734bd45026d",
   "metadata": {},
   "outputs": [],
   "source": [
    "class Character:\n",
    "\n",
    "    def __init__(\n",
    "        self,\n",
    "        \n",
    "    ): pass\n",
    "    \n",
    "    def hit(self):\n",
    "        healthpoint = int(input('вижу врага (введите hp enemy): '))\n",
    "        print('hp врага  = ', healthpoint)\n",
    "        \n",
    "        mainstat : int | float = randint(53, 105)\n",
    "        agility : float | int = mainstat // 10 * 20.4\n",
    "        force : float | int = mainstat // 10 * 31.2\n",
    "        intelligent : float | int = mainstat // 10 * 21.8\n",
    "    \n",
    "        hitting : int | float = (agility + force + intelligent)*1000\n",
    "        print('крит по голове =  ', hitting)\n",
    "        if hitting >= healthpoint:\n",
    "            print('отлетел в лобби мусор')\n",
    "        else:\n",
    "            print('gg go lobby, go one more time')"
   ]
  },
  {
   "cell_type": "code",
   "execution_count": 53,
   "id": "87531eed",
   "metadata": {},
   "outputs": [],
   "source": [
    "class Dire(Character):\n",
    "    def iam(self):\n",
    "        print('I am from Dire')"
   ]
  },
  {
   "cell_type": "code",
   "execution_count": 54,
   "id": "89b78afb",
   "metadata": {},
   "outputs": [],
   "source": [
    "class Radiant(Character):\n",
    "    def iam(self):\n",
    "        print('I am from Radiant')"
   ]
  },
  {
   "cell_type": "code",
   "execution_count": 55,
   "id": "abdf1004-2817-40f4-9754-134e6ac1aa67",
   "metadata": {},
   "outputs": [],
   "source": [
    "class PhantomAssasin(Dire):\n",
    "    def comment(self):\n",
    "        print('my name is Phantom Assasin')\n",
    "        Dire.iam(self)"
   ]
  },
  {
   "cell_type": "code",
   "execution_count": 56,
   "id": "8c83ffe0-b45d-4e22-910d-b7f4e98e2edb",
   "metadata": {},
   "outputs": [],
   "source": [
    "class Slark(Dire):\n",
    "    def comment(self):\n",
    "        print('im Slark')\n",
    "        Dire.iam(self)\n"
   ]
  },
  {
   "cell_type": "code",
   "execution_count": 57,
   "id": "df00f925-0ae8-4a2d-9199-595ccbc5709b",
   "metadata": {},
   "outputs": [],
   "source": [
    "class Sniper(PhantomAssasin):\n",
    "    def comment(self):\n",
    "        Radiant.iam(self)\n",
    "        print('I am Sniper, died of Phantom Assasin')"
   ]
  },
  {
   "cell_type": "code",
   "execution_count": 58,
   "id": "3c2f27e0-9d52-4ea9-b756-a2d7992f722c",
   "metadata": {},
   "outputs": [],
   "source": [
    "class NagaSiren(Slark):\n",
    "    def comment(self):\n",
    "        print('I am Naga Siren, died of Slark')"
   ]
  },
  {
   "cell_type": "code",
   "execution_count": 59,
   "id": "9da98dec-d7af-4c94-aeea-b8334b736fbf",
   "metadata": {},
   "outputs": [],
   "source": [
    "def start_game():\n",
    "    print('start?')\n",
    "    otvet = str(input('da net?'))\n",
    "    if otvet == 'da':\n",
    "        print('choose ur fighter: Phantom Assasin or Slark')\n",
    "        otvet = str(input('1 / 2?'))\n",
    "        if otvet == \"1\":\n",
    "            PA = PhantomAssasin()\n",
    "            PA.comment()\n",
    "            PA.hit()\n",
    "            SN = Sniper()\n",
    "            SN.comment()\n",
    "        if otvet == \"2\":\n",
    "            SL = Slark()\n",
    "            SL.comment()\n",
    "            print('я рыба и не больше.... на этом все')\n",
    "    else: pass\n",
    "        #  see the enemy\n"
   ]
  },
  {
   "cell_type": "code",
   "execution_count": 60,
   "id": "0d2b2947-03db-46cf-aed3-a465caea37b7",
   "metadata": {},
   "outputs": [
    {
     "name": "stdout",
     "output_type": "stream",
     "text": [
      "start?\n",
      "choose ur fighter: Phantom Assasin or Slark\n",
      "my name is Phantom Assasin\n",
      "I am from Dire\n",
      "hp врага  =  1234\n",
      "крит по голове =   660600.0\n",
      "отлетел в лобби мусор\n",
      "I am from Radiant\n",
      "I am Sniper, died of Phantom Assasin\n"
     ]
    }
   ],
   "source": [
    "start_game()"
   ]
  }
 ],
 "metadata": {
  "kernelspec": {
   "display_name": "Python 3 (ipykernel)",
   "language": "python",
   "name": "python3"
  },
  "language_info": {
   "codemirror_mode": {
    "name": "ipython",
    "version": 3
   },
   "file_extension": ".py",
   "mimetype": "text/x-python",
   "name": "python",
   "nbconvert_exporter": "python",
   "pygments_lexer": "ipython3",
   "version": "3.10.0"
  }
 },
 "nbformat": 4,
 "nbformat_minor": 5
}
