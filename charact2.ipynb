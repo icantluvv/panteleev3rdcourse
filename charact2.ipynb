{
 "cells": [
  {
   "cell_type": "code",
   "execution_count": 2,
   "metadata": {},
   "outputs": [],
   "source": [
    "class Character:\n",
    "    def __init__(\n",
    "        self,\n",
    "        name\n",
    "    ):\n",
    "        self.name = name"
   ]
  },
  {
   "cell_type": "code",
   "execution_count": 3,
   "metadata": {},
   "outputs": [],
   "source": [
    "##### ПЕРСОНАЖИ\n",
    "class Hagrid(Character):\n",
    "    def say_name(self):\n",
    "        print(self.name)\n",
    "\n",
    "class Harry_Potter(Character):\n",
    "    def say_name(self):\n",
    "        print(self.name)\n",
    "\n",
    "class Shrek(Character):\n",
    "    def say_name(self):\n",
    "        print(self.name)"
   ]
  },
  {
   "cell_type": "code",
   "execution_count": 4,
   "metadata": {},
   "outputs": [],
   "source": [
    "###### ДЛЯ ФАНКО ПОПА\n",
    "class MixinFallable:\n",
    "    def fall(self):\n",
    "        print('я падаю')\n",
    "\n",
    "class MixinDust:\n",
    "    def collect_dust(self):\n",
    "        print('я собираю пыль')"
   ]
  },
  {
   "cell_type": "code",
   "execution_count": 5,
   "metadata": {},
   "outputs": [],
   "source": [
    "class MixinFunkoPop(MixinDust, MixinFallable):\n",
    "    pass\n"
   ]
  },
  {
   "cell_type": "code",
   "execution_count": 6,
   "metadata": {},
   "outputs": [],
   "source": [
    "######### ДЛЯ ПЛЭЙИБЛ\n",
    "class MixinJumpable:\n",
    "    def jump(self):\n",
    "        print('я прыгаю')\n",
    "\n",
    "class MixinTalkable:\n",
    "    def talk(self):\n",
    "        print('я говорю')\n",
    "\n",
    "class MixinPlayable(MixinJumpable, MixinTalkable):\n",
    "    pass"
   ]
  },
  {
   "cell_type": "code",
   "execution_count": 7,
   "metadata": {},
   "outputs": [],
   "source": [
    "class HagridFunko(Character, MixinFunkoPop):\n",
    "    def character_type(self):\n",
    "        print('funko')\n",
    "        print(self.name)\n",
    "\n",
    "class HarryFunko(Character, MixinFunkoPop):\n",
    "    def character_type(self):\n",
    "        print('funko')\n",
    "        print(self.name)\n",
    "\n",
    "class ShrekFunko(Character, MixinFunkoPop):\n",
    "    def character_type(self):\n",
    "        print('funko')\n",
    "        print(self.name)"
   ]
  },
  {
   "cell_type": "code",
   "execution_count": 8,
   "metadata": {},
   "outputs": [],
   "source": [
    "class HagridPlayable(Character, MixinPlayable):\n",
    "    def character_type(self):\n",
    "        print(self.name)\n",
    "        print('playable')\n",
    "\n",
    "class HarryPlayable(Character, MixinPlayable):\n",
    "    def character_type(self):\n",
    "        print(self.name)\n",
    "        print('playable')\n",
    "\n",
    "class ShrekPlayable(Character, MixinPlayable):\n",
    "    def character_type(self):\n",
    "        print(self.name)\n",
    "        print('playable')"
   ]
  },
  {
   "cell_type": "code",
   "execution_count": 9,
   "metadata": {},
   "outputs": [
    {
     "name": "stdout",
     "output_type": "stream",
     "text": [
      "Shrek\n",
      "playable\n",
      "я прыгаю\n",
      "я говорю\n"
     ]
    }
   ],
   "source": [
    "SH = ShrekPlayable('Shrek')\n",
    "SH.character_type()\n",
    "SH.jump()\n",
    "SH.talk()"
   ]
  },
  {
   "cell_type": "code",
   "execution_count": 10,
   "metadata": {},
   "outputs": [
    {
     "name": "stdout",
     "output_type": "stream",
     "text": [
      "funko\n",
      "Shrek_Funko\n",
      "я собираю пыль\n",
      "я падаю\n"
     ]
    }
   ],
   "source": [
    "SHF = ShrekFunko('Shrek_Funko')\n",
    "SHF.character_type()\n",
    "SHF.collect_dust()\n",
    "SHF.fall()"
   ]
  },
  {
   "cell_type": "code",
   "execution_count": 11,
   "metadata": {},
   "outputs": [
    {
     "name": "stdout",
     "output_type": "stream",
     "text": [
      "Hagrid\n",
      "playable\n",
      "я прыгаю\n",
      "я говорю\n"
     ]
    }
   ],
   "source": [
    "HAG = HagridPlayable('Hagrid')\n",
    "HAG.character_type()\n",
    "HAG.jump()\n",
    "HAG.talk()"
   ]
  },
  {
   "cell_type": "code",
   "execution_count": 12,
   "metadata": {},
   "outputs": [
    {
     "name": "stdout",
     "output_type": "stream",
     "text": [
      "funko\n",
      "Hagrid_Funko\n",
      "я собираю пыль\n",
      "я падаю\n"
     ]
    }
   ],
   "source": [
    "HAGF = HagridFunko('Hagrid_Funko')\n",
    "HAGF.character_type()\n",
    "HAGF.collect_dust()\n",
    "HAGF.fall()"
   ]
  },
  {
   "cell_type": "code",
   "execution_count": 13,
   "metadata": {},
   "outputs": [
    {
     "name": "stdout",
     "output_type": "stream",
     "text": [
      "Harry_Potter\n",
      "playable\n",
      "я прыгаю\n",
      "я говорю\n"
     ]
    }
   ],
   "source": [
    "HAR = HarryPlayable('Harry_Potter')\n",
    "HAR.character_type()\n",
    "HAR.jump()\n",
    "HAR.talk()"
   ]
  },
  {
   "cell_type": "code",
   "execution_count": 14,
   "metadata": {},
   "outputs": [
    {
     "name": "stdout",
     "output_type": "stream",
     "text": [
      "funko\n",
      "Harry_Potter_Funko\n",
      "я собираю пыль\n",
      "я падаю\n"
     ]
    }
   ],
   "source": [
    "HARF = HarryFunko('Harry_Potter_Funko')\n",
    "HARF.character_type()\n",
    "HARF.collect_dust()\n",
    "HARF.fall()"
   ]
  },
  {
   "cell_type": "code",
   "execution_count": null,
   "metadata": {},
   "outputs": [],
   "source": []
  }
 ],
 "metadata": {
  "kernelspec": {
   "display_name": "Python 3",
   "language": "python",
   "name": "python3"
  },
  "language_info": {
   "codemirror_mode": {
    "name": "ipython",
    "version": 3
   },
   "file_extension": ".py",
   "mimetype": "text/x-python",
   "name": "python",
   "nbconvert_exporter": "python",
   "pygments_lexer": "ipython3",
   "version": "3.10.0"
  },
  "orig_nbformat": 4
 },
 "nbformat": 4,
 "nbformat_minor": 2
}
